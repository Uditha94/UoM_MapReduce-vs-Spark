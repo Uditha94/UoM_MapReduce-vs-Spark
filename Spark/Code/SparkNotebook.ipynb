{
 "cells": [
  {
   "cell_type": "code",
   "execution_count": 39,
   "id": "c5f8f00e",
   "metadata": {},
   "outputs": [
    {
     "data": {
      "application/vnd.jupyter.widget-view+json": {
       "model_id": "7dd69df1cc5740929b23ca4a9cc4df97",
       "version_major": 2,
       "version_minor": 0
      },
      "text/plain": [
       "VBox()"
      ]
     },
     "metadata": {},
     "output_type": "display_data"
    },
    {
     "data": {
      "application/vnd.jupyter.widget-view+json": {
       "model_id": "",
       "version_major": 2,
       "version_minor": 0
      },
      "text/plain": [
       "FloatProgress(value=0.0, bar_style='info', description='Progress:', layout=Layout(height='25px', width='50%'),…"
      ]
     },
     "metadata": {},
     "output_type": "display_data"
    }
   ],
   "source": [
    "from pyspark.sql import SparkSession\n",
    "\n",
    "# create a SparkSession\n",
    "spark = SparkSession.builder.appName(\"AirlineDelayAnalysis\").getOrCreate()\n",
    "\n",
    "# read the data from S3\n",
    "df = spark.read.format(\"csv\").option(\"header\", \"true\").load(\"s3://pre-assighnment/dataset/DelayedFlights-updated.csv\")\n",
    "\n",
    "# register the DataFrame as a table\n",
    "df.createOrReplaceTempView(\"airline_delay\")"
   ]
  },
  {
   "cell_type": "code",
   "execution_count": 40,
   "id": "3ae1c65c",
   "metadata": {},
   "outputs": [
    {
     "data": {
      "application/vnd.jupyter.widget-view+json": {
       "model_id": "2da87a0b815a4816b29275c4f72ca69a",
       "version_major": 2,
       "version_minor": 0
      },
      "text/plain": [
       "VBox()"
      ]
     },
     "metadata": {},
     "output_type": "display_data"
    },
    {
     "data": {
      "application/vnd.jupyter.widget-view+json": {
       "model_id": "",
       "version_major": 2,
       "version_minor": 0
      },
      "text/plain": [
       "FloatProgress(value=0.0, bar_style='info', description='Progress:', layout=Layout(height='25px', width='50%'),…"
      ]
     },
     "metadata": {},
     "output_type": "display_data"
    },
    {
     "name": "stdout",
     "output_type": "stream",
     "text": [
      "root\n",
      " |-- _c0: string (nullable = true)\n",
      " |-- Year: string (nullable = true)\n",
      " |-- Month: string (nullable = true)\n",
      " |-- DayofMonth: string (nullable = true)\n",
      " |-- DayOfWeek: string (nullable = true)\n",
      " |-- DepTime: string (nullable = true)\n",
      " |-- CRSDepTime: string (nullable = true)\n",
      " |-- ArrTime: string (nullable = true)\n",
      " |-- CRSArrTime: string (nullable = true)\n",
      " |-- UniqueCarrier: string (nullable = true)\n",
      " |-- FlightNum: string (nullable = true)\n",
      " |-- TailNum: string (nullable = true)\n",
      " |-- ActualElapsedTime: string (nullable = true)\n",
      " |-- CRSElapsedTime: string (nullable = true)\n",
      " |-- AirTime: string (nullable = true)\n",
      " |-- ArrDelay: string (nullable = true)\n",
      " |-- DepDelay: string (nullable = true)\n",
      " |-- Origin: string (nullable = true)\n",
      " |-- Dest: string (nullable = true)\n",
      " |-- Distance: string (nullable = true)\n",
      " |-- TaxiIn: string (nullable = true)\n",
      " |-- TaxiOut: string (nullable = true)\n",
      " |-- Cancelled: string (nullable = true)\n",
      " |-- CancellationCode: string (nullable = true)\n",
      " |-- Diverted: string (nullable = true)\n",
      " |-- CarrierDelay: string (nullable = true)\n",
      " |-- WeatherDelay: string (nullable = true)\n",
      " |-- NASDelay: string (nullable = true)\n",
      " |-- SecurityDelay: string (nullable = true)\n",
      " |-- LateAircraftDelay: string (nullable = true)\n",
      "\n",
      "+---+----+-----+----------+---------+-------+----------+-------+----------+-------------+---------+-------+-----------------+--------------+-------+--------+--------+------+----+--------+------+-------+---------+----------------+--------+------------+------------+--------+-------------+-----------------+\n",
      "|_c0|Year|Month|DayofMonth|DayOfWeek|DepTime|CRSDepTime|ArrTime|CRSArrTime|UniqueCarrier|FlightNum|TailNum|ActualElapsedTime|CRSElapsedTime|AirTime|ArrDelay|DepDelay|Origin|Dest|Distance|TaxiIn|TaxiOut|Cancelled|CancellationCode|Diverted|CarrierDelay|WeatherDelay|NASDelay|SecurityDelay|LateAircraftDelay|\n",
      "+---+----+-----+----------+---------+-------+----------+-------+----------+-------------+---------+-------+-----------------+--------------+-------+--------+--------+------+----+--------+------+-------+---------+----------------+--------+------------+------------+--------+-------------+-----------------+\n",
      "|  1|2003|    6|        17|        2|   1310|      1255|   1612|      1615|           AA|     1362| N4YPAA|              122|           140|     93|      -3|      15|   ORD| JFK|     740|     6|     23|        0|               N|       0|        null|        null|    null|         null|             null|\n",
      "|  2|2003|    6|        20|        5|   1303|      1255|   1623|      1615|           AA|     1362| N4XBAA|              140|           140|    100|       8|       8|   ORD| JFK|     740|    11|     29|        0|               N|       0|        null|        null|    null|         null|             null|\n",
      "|  3|2003|    6|        22|        7|   1325|      1255|   1953|      1615|           AA|     1362| N569AA|              328|           140|    113|     218|      30|   ORD| JFK|     740|     9|    206|        0|               N|       0|           0|           0|     218|            0|                0|\n",
      "|  4|2003|    6|        23|        1|   1328|      1255|   1655|      1615|           AA|     1362| N4YUAA|              147|           140|    107|      40|      33|   ORD| JFK|     740|     8|     32|        0|               N|       0|           0|           0|      40|            0|                0|\n",
      "|  5|2003|    6|        25|        3|   1307|      1255|   1620|      1615|           AA|     1362| N519AA|              133|           140|    101|       5|      12|   ORD| JFK|     740|    12|     20|        0|               N|       0|        null|        null|    null|         null|             null|\n",
      "+---+----+-----+----------+---------+-------+----------+-------+----------+-------------+---------+-------+-----------------+--------------+-------+--------+--------+------+----+--------+------+-------+---------+----------------+--------+------------+------------+--------+-------------+-----------------+\n",
      "only showing top 5 rows"
     ]
    }
   ],
   "source": [
    "# Show the schema and first few rows of the DataFrame\n",
    "df.printSchema()\n",
    "df.show(5)"
   ]
  },
  {
   "cell_type": "code",
   "execution_count": 41,
   "id": "9d8b6a4f",
   "metadata": {},
   "outputs": [
    {
     "data": {
      "application/vnd.jupyter.widget-view+json": {
       "model_id": "a796e80a64154bb4a8b0bd5c83136a4e",
       "version_major": 2,
       "version_minor": 0
      },
      "text/plain": [
       "VBox()"
      ]
     },
     "metadata": {},
     "output_type": "display_data"
    },
    {
     "data": {
      "application/vnd.jupyter.widget-view+json": {
       "model_id": "",
       "version_major": 2,
       "version_minor": 0
      },
      "text/plain": [
       "FloatProgress(value=0.0, bar_style='info', description='Progress:', layout=Layout(height='25px', width='50%'),…"
      ]
     },
     "metadata": {},
     "output_type": "display_data"
    },
    {
     "name": "stdout",
     "output_type": "stream",
     "text": [
      "1 - Year wise carrier delay from 2003-2010\n",
      "+----+-----------------+\n",
      "|Year|TotalCarrierDelay|\n",
      "+----+-----------------+\n",
      "|2003|           1577.0|\n",
      "|2004|           2064.0|\n",
      "|2005|           1436.0|\n",
      "|2006|           1540.0|\n",
      "|2007|           1835.0|\n",
      "|2008|           1298.0|\n",
      "|2009|           1191.0|\n",
      "|2010|           1992.0|\n",
      "+----+-----------------+\n",
      "\n",
      "Execution time for carrier_delay query: 0.9894909858703613 seconds"
     ]
    }
   ],
   "source": [
    "#1)Year wise carrier delay from 2003-2010\n",
    "\n",
    "import time\n",
    "start_time = time.time()\n",
    "\n",
    "print(\"1 - Year wise carrier delay from 2003-2010\")\n",
    "\n",
    "# run the queries\n",
    "year_carrier_delay = spark.sql(\"SELECT Year, SUM(CarrierDelay) as TotalCarrierDelay FROM airline_delay WHERE Year BETWEEN 2003 AND 2010 GROUP BY Year ORDER BY Year\")\n",
    "\n",
    "# show the results\n",
    "year_carrier_delay.show()\n",
    "\n",
    "end_time = time.time()\n",
    "print(\"Execution time for carrier_delay query:\", end_time - start_time, \"seconds\")\n"
   ]
  },
  {
   "cell_type": "code",
   "execution_count": 42,
   "id": "54ba34bd",
   "metadata": {},
   "outputs": [
    {
     "data": {
      "application/vnd.jupyter.widget-view+json": {
       "model_id": "1affff8dd28847a79eb554b6a9667ec4",
       "version_major": 2,
       "version_minor": 0
      },
      "text/plain": [
       "VBox()"
      ]
     },
     "metadata": {},
     "output_type": "display_data"
    },
    {
     "data": {
      "application/vnd.jupyter.widget-view+json": {
       "model_id": "",
       "version_major": 2,
       "version_minor": 0
      },
      "text/plain": [
       "FloatProgress(value=0.0, bar_style='info', description='Progress:', layout=Layout(height='25px', width='50%'),…"
      ]
     },
     "metadata": {},
     "output_type": "display_data"
    },
    {
     "name": "stdout",
     "output_type": "stream",
     "text": [
      "2 - Year wise NAS delay from 2003-2010\n",
      "+----+-------------+\n",
      "|Year|TotalNASDelay|\n",
      "+----+-------------+\n",
      "|2003|       1856.0|\n",
      "|2004|        493.0|\n",
      "|2005|        680.0|\n",
      "|2006|        869.0|\n",
      "|2007|       4269.0|\n",
      "|2008|       1410.0|\n",
      "|2009|       1963.0|\n",
      "|2010|       3568.0|\n",
      "+----+-------------+\n",
      "\n",
      "Execution time for nas_delay query: 0.4322216510772705 seconds"
     ]
    }
   ],
   "source": [
    "#2)Year wise NAS delay from 2003-2010\n",
    "\n",
    "start_time = time.time()\n",
    "\n",
    "print(\"2 - Year wise NAS delay from 2003-2010\")\n",
    "\n",
    "# run the queries\n",
    "year_nas_delay = spark.sql(\"SELECT Year, SUM(NASDelay) as TotalNASDelay FROM airline_delay WHERE Year BETWEEN 2003 AND 2010 GROUP BY Year ORDER BY Year\")\n",
    "\n",
    "# show the results\n",
    "year_nas_delay.show()\n",
    "\n",
    "end_time = time.time()\n",
    "print(\"Execution time for nas_delay query:\", end_time - start_time, \"seconds\")\n",
    "\n"
   ]
  },
  {
   "cell_type": "code",
   "execution_count": 43,
   "id": "03303706",
   "metadata": {},
   "outputs": [
    {
     "data": {
      "application/vnd.jupyter.widget-view+json": {
       "model_id": "203def22b9184df485389b79b94d16d2",
       "version_major": 2,
       "version_minor": 0
      },
      "text/plain": [
       "VBox()"
      ]
     },
     "metadata": {},
     "output_type": "display_data"
    },
    {
     "data": {
      "application/vnd.jupyter.widget-view+json": {
       "model_id": "",
       "version_major": 2,
       "version_minor": 0
      },
      "text/plain": [
       "FloatProgress(value=0.0, bar_style='info', description='Progress:', layout=Layout(height='25px', width='50%'),…"
      ]
     },
     "metadata": {},
     "output_type": "display_data"
    },
    {
     "name": "stdout",
     "output_type": "stream",
     "text": [
      "3 - Year wise Weather delay from 2003-2010\n",
      "+----+-----------------+\n",
      "|Year|TotalWeatherDelay|\n",
      "+----+-----------------+\n",
      "|2003|            660.0|\n",
      "|2004|            287.0|\n",
      "|2005|            267.0|\n",
      "|2006|            384.0|\n",
      "|2007|            452.0|\n",
      "|2008|            305.0|\n",
      "|2009|             24.0|\n",
      "|2010|            240.0|\n",
      "+----+-----------------+\n",
      "\n",
      "Execution time for weather_delay query: 0.4232981204986572 seconds"
     ]
    }
   ],
   "source": [
    "#3)Year wise Weather delay from 2003-2010\n",
    "\n",
    "start_time = time.time()\n",
    "\n",
    "print(\"3 - Year wise Weather delay from 2003-2010\")\n",
    "\n",
    "# run the queries\n",
    "year_weather_delay = spark.sql(\"SELECT Year, SUM(WeatherDelay) as TotalWeatherDelay FROM airline_delay WHERE Year BETWEEN 2003 AND 2010 GROUP BY Year ORDER BY Year\")\n",
    "\n",
    "# show the results\n",
    "year_weather_delay.show()\n",
    "\n",
    "end_time = time.time()\n",
    "print(\"Execution time for weather_delay query:\", end_time - start_time, \"seconds\")"
   ]
  },
  {
   "cell_type": "code",
   "execution_count": 44,
   "id": "d5a0f122",
   "metadata": {},
   "outputs": [
    {
     "data": {
      "application/vnd.jupyter.widget-view+json": {
       "model_id": "f108712407044a16ba9ec3542c3bb781",
       "version_major": 2,
       "version_minor": 0
      },
      "text/plain": [
       "VBox()"
      ]
     },
     "metadata": {},
     "output_type": "display_data"
    },
    {
     "data": {
      "application/vnd.jupyter.widget-view+json": {
       "model_id": "",
       "version_major": 2,
       "version_minor": 0
      },
      "text/plain": [
       "FloatProgress(value=0.0, bar_style='info', description='Progress:', layout=Layout(height='25px', width='50%'),…"
      ]
     },
     "metadata": {},
     "output_type": "display_data"
    },
    {
     "name": "stdout",
     "output_type": "stream",
     "text": [
      "4 - Year wise late aircraft delay from 2003-2010\n",
      "+----+----------------------+\n",
      "|Year|TotalLateAircraftDelay|\n",
      "+----+----------------------+\n",
      "|2003|                1986.0|\n",
      "|2004|                1451.0|\n",
      "|2005|                2332.0|\n",
      "|2006|                2295.0|\n",
      "|2007|                5726.0|\n",
      "|2008|                2069.0|\n",
      "|2009|                1819.0|\n",
      "|2010|                4233.0|\n",
      "+----+----------------------+\n",
      "\n",
      "Execution time for late_aircraft_delay query: 0.3456881046295166 seconds"
     ]
    }
   ],
   "source": [
    "#4)Year wise late aircraft delay from 2003-2010\n",
    "\n",
    "start_time = time.time()\n",
    "\n",
    "print(\"4 - Year wise late aircraft delay from 2003-2010\")\n",
    "\n",
    "# run the queries\n",
    "year_late_aircraft_delay = spark.sql(\"SELECT Year, SUM(LateAircraftDelay) as TotalLateAircraftDelay FROM airline_delay WHERE Year BETWEEN 2003 AND 2010 GROUP BY Year ORDER BY Year\")\n",
    "\n",
    "# show the results\n",
    "year_late_aircraft_delay.show()\n",
    "\n",
    "end_time = time.time()\n",
    "print(\"Execution time for late_aircraft_delay query:\", end_time - start_time, \"seconds\")"
   ]
  },
  {
   "cell_type": "code",
   "execution_count": 46,
   "id": "6c8d39d5",
   "metadata": {
    "scrolled": false
   },
   "outputs": [
    {
     "data": {
      "application/vnd.jupyter.widget-view+json": {
       "model_id": "5f774a246e4b411988eeea50d5be0098",
       "version_major": 2,
       "version_minor": 0
      },
      "text/plain": [
       "VBox()"
      ]
     },
     "metadata": {},
     "output_type": "display_data"
    },
    {
     "data": {
      "application/vnd.jupyter.widget-view+json": {
       "model_id": "",
       "version_major": 2,
       "version_minor": 0
      },
      "text/plain": [
       "FloatProgress(value=0.0, bar_style='info', description='Progress:', layout=Layout(height='25px', width='50%'),…"
      ]
     },
     "metadata": {},
     "output_type": "display_data"
    },
    {
     "name": "stdout",
     "output_type": "stream",
     "text": [
      "5 - Year wise security delay from 2003-2010\n",
      "+----+------------------+\n",
      "|Year|TotalSecurityDelay|\n",
      "+----+------------------+\n",
      "|2003|               0.0|\n",
      "|2004|               0.0|\n",
      "|2005|               0.0|\n",
      "|2006|               0.0|\n",
      "|2007|              12.0|\n",
      "|2008|               0.0|\n",
      "|2009|               0.0|\n",
      "|2010|               0.0|\n",
      "+----+------------------+\n",
      "\n",
      "Execution time for security_delay query: 0.3532907962799072 seconds"
     ]
    }
   ],
   "source": [
    "#5)Year wise security delay from 2003-2010\n",
    "\n",
    "start_time = time.time()\n",
    "\n",
    "print(\"5 - Year wise security delay from 2003-2010\")\n",
    "\n",
    "# run the queries\n",
    "year_security_delay = spark.sql(\"SELECT Year, SUM(SecurityDelay) as TotalSecurityDelay FROM airline_delay WHERE Year BETWEEN 2003 AND 2010 GROUP BY Year ORDER BY Year\")\n",
    "\n",
    "# show the results\n",
    "year_security_delay.show()\n",
    "\n",
    "end_time = time.time()\n",
    "print(\"Execution time for security_delay query:\", end_time - start_time, \"seconds\")"
   ]
  },
  {
   "cell_type": "code",
   "execution_count": null,
   "id": "0cd31267",
   "metadata": {},
   "outputs": [],
   "source": []
  }
 ],
 "metadata": {
  "kernelspec": {
   "display_name": "PySpark",
   "language": "python",
   "name": "pysparkkernel"
  },
  "language_info": {
   "codemirror_mode": {
    "name": "python",
    "version": 3
   },
   "file_extension": ".py",
   "mimetype": "text/x-python",
   "name": "pyspark",
   "pygments_lexer": "python3"
  }
 },
 "nbformat": 4,
 "nbformat_minor": 5
}
