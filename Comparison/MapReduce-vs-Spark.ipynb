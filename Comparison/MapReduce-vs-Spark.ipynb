{
 "cells": [
  {
   "cell_type": "code",
   "execution_count": 126,
   "id": "584c8649",
   "metadata": {},
   "outputs": [],
   "source": [
    "import pandas as pd\n",
    "import matplotlib.pyplot as plt\n",
    "from IPython.display import display"
   ]
  },
  {
   "cell_type": "code",
   "execution_count": 127,
   "id": "0b9a33fc",
   "metadata": {},
   "outputs": [],
   "source": [
    "df = pd.read_csv('QueryExecutionTime.csv')"
   ]
  },
  {
   "cell_type": "code",
   "execution_count": 128,
   "id": "26a3ca6b",
   "metadata": {},
   "outputs": [
    {
     "name": "stdout",
     "output_type": "stream",
     "text": [
      "                    Qusestion   Iteration  spark  mapReduced\n",
      "0         Carrier delay query  Iteration1  8.795      16.777\n",
      "1             NAS delay query  Iteration1  7.477      12.859\n",
      "2         Weather delay query  Iteration1  7.462      13.042\n",
      "3   Late aircraft delay query  Iteration1  7.129      14.713\n",
      "4        Security delay query  Iteration1  7.190      14.941\n",
      "5         Carrier delay query  Iteration2  0.363      12.581\n",
      "6             NAS delay query  Iteration2  0.283       7.638\n",
      "7         Weather delay query  Iteration2  0.308       6.851\n",
      "8   Late aircraft delay query  Iteration2  0.301       7.592\n",
      "9        Security delay query  Iteration2  0.285       7.205\n",
      "10        Carrier delay query  Iteration3  1.016       7.154\n",
      "11            NAS delay query  Iteration3  0.439       7.039\n",
      "12        Weather delay query  Iteration3  0.429       7.113\n",
      "13  Late aircraft delay query  Iteration3  0.315       6.800\n",
      "14       Security delay query  Iteration3  0.434       6.935\n",
      "15        Carrier delay query  Iteration4  1.016       7.527\n",
      "16            NAS delay query  Iteration4  0.439       7.624\n",
      "17        Weather delay query  Iteration4  0.429       7.455\n",
      "18  Late aircraft delay query  Iteration4  0.315       7.635\n",
      "19       Security delay query  Iteration4  0.740       7.719\n",
      "20        Carrier delay query  Iteration5  0.989       7.401\n",
      "21            NAS delay query  Iteration5  0.432       6.941\n",
      "22        Weather delay query  Iteration5  0.423       7.051\n",
      "23  Late aircraft delay query  Iteration5  0.345       7.350\n",
      "24       Security delay query  Iteration5  0.263       7.535\n"
     ]
    }
   ],
   "source": [
    "print(df)"
   ]
  },
  {
   "cell_type": "code",
   "execution_count": 129,
   "id": "ac65b7ba",
   "metadata": {},
   "outputs": [],
   "source": [
    "#Run the query using Hadoop and Spark for 5 times and plot the graph in comparing both methods (running time vs iteration"
   ]
  },
  {
   "cell_type": "code",
   "execution_count": 130,
   "id": "680f764e",
   "metadata": {},
   "outputs": [
    {
     "name": "stdout",
     "output_type": "stream",
     "text": [
      "     Iteration  mapReduced  spark\n",
      "0   Iteration1      16.777  8.795\n",
      "1   Iteration1      12.859  7.477\n",
      "2   Iteration1      13.042  7.462\n",
      "3   Iteration1      14.713  7.129\n",
      "4   Iteration1      14.941  7.190\n",
      "5   Iteration2      12.581  0.363\n",
      "6   Iteration2       7.638  0.283\n",
      "7   Iteration2       6.851  0.308\n",
      "8   Iteration2       7.592  0.301\n",
      "9   Iteration2       7.205  0.285\n",
      "10  Iteration3       7.154  1.016\n",
      "11  Iteration3       7.039  0.439\n",
      "12  Iteration3       7.113  0.429\n",
      "13  Iteration3       6.800  0.315\n",
      "14  Iteration3       6.935  0.434\n",
      "15  Iteration4       7.527  1.016\n",
      "16  Iteration4       7.624  0.439\n",
      "17  Iteration4       7.455  0.429\n",
      "18  Iteration4       7.635  0.315\n",
      "19  Iteration4       7.719  0.740\n",
      "20  Iteration5       7.401  0.989\n",
      "21  Iteration5       6.941  0.432\n",
      "22  Iteration5       7.051  0.423\n",
      "23  Iteration5       7.350  0.345\n",
      "24  Iteration5       7.535  0.263\n"
     ]
    }
   ],
   "source": [
    "# Create a new data frame with specific columns\n",
    "df_iteration = df.iloc[:, [1, 3 , 2]]\n",
    "\n",
    "# Show the new data frame\n",
    "print(df_iteration)"
   ]
  },
  {
   "cell_type": "code",
   "execution_count": 131,
   "id": "5ace6732",
   "metadata": {},
   "outputs": [],
   "source": [
    "df_iteration_group = df_iteration.groupby('Iteration').agg({'mapReduced': 'mean', 'spark': 'mean'}).reset_index()\n"
   ]
  },
  {
   "cell_type": "code",
   "execution_count": 132,
   "id": "00900435",
   "metadata": {},
   "outputs": [
    {
     "name": "stdout",
     "output_type": "stream",
     "text": [
      "    Iteration  mapReduced   spark\n",
      "0  Iteration1     14.4664  7.6106\n",
      "1  Iteration2      8.3734  0.3080\n",
      "2  Iteration3      7.0082  0.5266\n",
      "3  Iteration4      7.5920  0.5878\n",
      "4  Iteration5      7.2556  0.4904\n"
     ]
    }
   ],
   "source": [
    "print(df_iteration_group)"
   ]
  },
  {
   "cell_type": "code",
   "execution_count": 133,
   "id": "071de80e",
   "metadata": {},
   "outputs": [
    {
     "data": {
      "image/png": "[encoded data removed]",
      "text/plain": [
       "<Figure size 640x480 with 1 Axes>"
      ]
     },
     "metadata": {},
     "output_type": "display_data"
    }
   ],
   "source": [
    "df_iteration_group.plot(x='Iteration', y=[\"mapReduced\",\"spark\"], kind='bar')\n",
    "\n",
    "plt.xlabel(\"No of Iteration\")\n",
    "plt.ylabel(\"Running Time (s)\")\n",
    "\n",
    "# Display the chart\n",
    "plt.show()"
   ]
  },
  {
   "cell_type": "code",
   "execution_count": 134,
   "id": "a49c741d",
   "metadata": {},
   "outputs": [],
   "source": [
    "#Similarly process all queries and plot the time-comparison graphs as shown above. (Table below shows the comparison for all the queries with sample data for an iteration)"
   ]
  },
  {
   "cell_type": "code",
   "execution_count": 135,
   "id": "bf1500b1",
   "metadata": {},
   "outputs": [
    {
     "name": "stdout",
     "output_type": "stream",
     "text": [
      "                    Qusestion  mapReduced  spark\n",
      "0         Carrier delay query      16.777  8.795\n",
      "1             NAS delay query      12.859  7.477\n",
      "2         Weather delay query      13.042  7.462\n",
      "3   Late aircraft delay query      14.713  7.129\n",
      "4        Security delay query      14.941  7.190\n",
      "5         Carrier delay query      12.581  0.363\n",
      "6             NAS delay query       7.638  0.283\n",
      "7         Weather delay query       6.851  0.308\n",
      "8   Late aircraft delay query       7.592  0.301\n",
      "9        Security delay query       7.205  0.285\n",
      "10        Carrier delay query       7.154  1.016\n",
      "11            NAS delay query       7.039  0.439\n",
      "12        Weather delay query       7.113  0.429\n",
      "13  Late aircraft delay query       6.800  0.315\n",
      "14       Security delay query       6.935  0.434\n",
      "15        Carrier delay query       7.527  1.016\n",
      "16            NAS delay query       7.624  0.439\n",
      "17        Weather delay query       7.455  0.429\n",
      "18  Late aircraft delay query       7.635  0.315\n",
      "19       Security delay query       7.719  0.740\n",
      "20        Carrier delay query       7.401  0.989\n",
      "21            NAS delay query       6.941  0.432\n",
      "22        Weather delay query       7.051  0.423\n",
      "23  Late aircraft delay query       7.350  0.345\n",
      "24       Security delay query       7.535  0.263\n"
     ]
    }
   ],
   "source": [
    "# Create a new data frame with specific columns\n",
    "df_question = df.iloc[:, [0, 3 , 2]]\n",
    "\n",
    "# Show the new data frame\n",
    "print(df_question)"
   ]
  },
  {
   "cell_type": "code",
   "execution_count": 136,
   "id": "14cf62af",
   "metadata": {},
   "outputs": [],
   "source": [
    "df_question_group = df_question.groupby('Qusestion').agg({'mapReduced': 'mean', 'spark': 'mean'}).reset_index()"
   ]
  },
  {
   "cell_type": "code",
   "execution_count": 137,
   "id": "80f3161b",
   "metadata": {},
   "outputs": [
    {
     "name": "stdout",
     "output_type": "stream",
     "text": [
      "                   Qusestion  mapReduced   spark\n",
      "0        Carrier delay query     10.2880  2.4358\n",
      "1  Late aircraft delay query      8.8180  1.6810\n",
      "2            NAS delay query      8.4202  1.8140\n",
      "3       Security delay query      8.8670  1.7824\n",
      "4        Weather delay query      8.3024  1.8102\n"
     ]
    }
   ],
   "source": [
    "print(df_question_group)"
   ]
  },
  {
   "cell_type": "code",
   "execution_count": 138,
   "id": "fbc36a51",
   "metadata": {},
   "outputs": [
    {
     "data": {
      "text/html": [
       "<div>\n",
       "<style scoped>\n",
       "    .dataframe tbody tr th:only-of-type {\n",
       "        vertical-align: middle;\n",
       "    }\n",
       "\n",
       "    .dataframe tbody tr th {\n",
       "        vertical-align: top;\n",
       "    }\n",
       "\n",
       "    .dataframe thead th {\n",
       "        text-align: right;\n",
       "    }\n",
       "</style>\n",
       "<table border=\"1\" class=\"dataframe\">\n",
       "  <thead>\n",
       "    <tr style=\"text-align: right;\">\n",
       "      <th></th>\n",
       "      <th>Time Taken by query (in sec)</th>\n",
       "      <th>HiveQL</th>\n",
       "      <th>Spark-SQL</th>\n",
       "    </tr>\n",
       "  </thead>\n",
       "  <tbody>\n",
       "    <tr>\n",
       "      <th>0</th>\n",
       "      <td>Carrier delay query</td>\n",
       "      <td>10.2880</td>\n",
       "      <td>2.4358</td>\n",
       "    </tr>\n",
       "    <tr>\n",
       "      <th>1</th>\n",
       "      <td>Late aircraft delay query</td>\n",
       "      <td>8.8180</td>\n",
       "      <td>1.6810</td>\n",
       "    </tr>\n",
       "    <tr>\n",
       "      <th>2</th>\n",
       "      <td>NAS delay query</td>\n",
       "      <td>8.4202</td>\n",
       "      <td>1.8140</td>\n",
       "    </tr>\n",
       "    <tr>\n",
       "      <th>3</th>\n",
       "      <td>Security delay query</td>\n",
       "      <td>8.8670</td>\n",
       "      <td>1.7824</td>\n",
       "    </tr>\n",
       "    <tr>\n",
       "      <th>4</th>\n",
       "      <td>Weather delay query</td>\n",
       "      <td>8.3024</td>\n",
       "      <td>1.8102</td>\n",
       "    </tr>\n",
       "  </tbody>\n",
       "</table>\n",
       "</div>"
      ],
      "text/plain": [
       "  Time Taken by query (in sec)   HiveQL  Spark-SQL\n",
       "0          Carrier delay query  10.2880     2.4358\n",
       "1    Late aircraft delay query   8.8180     1.6810\n",
       "2              NAS delay query   8.4202     1.8140\n",
       "3         Security delay query   8.8670     1.7824\n",
       "4          Weather delay query   8.3024     1.8102"
      ]
     },
     "metadata": {},
     "output_type": "display_data"
    }
   ],
   "source": [
    "# Rename the column headers\n",
    "df_question_group_rename = df_question_group.rename(columns={'Qusestion': 'Time Taken by query (in sec)', 'mapReduced': 'HiveQL', 'spark': 'Spark-SQL'})\n",
    "\n",
    "display(df_question_group_rename)"
   ]
  },
  {
   "cell_type": "code",
   "execution_count": 115,
   "id": "c84979b7",
   "metadata": {},
   "outputs": [],
   "source": [
    "#Calculate average time taken by MapReduce and Spark for each query and plot the graph. Results shown below do not contain correct values. It is only to show the sample format."
   ]
  },
  {
   "cell_type": "code",
   "execution_count": 139,
   "id": "92c5d313",
   "metadata": {},
   "outputs": [
    {
     "name": "stdout",
     "output_type": "stream",
     "text": [
      "                   Qusestion  mapReduced   spark\n",
      "0        Carrier delay query     10.2880  2.4358\n",
      "1  Late aircraft delay query      8.8180  1.6810\n",
      "2            NAS delay query      8.4202  1.8140\n",
      "3       Security delay query      8.8670  1.7824\n",
      "4        Weather delay query      8.3024  1.8102\n"
     ]
    }
   ],
   "source": [
    "print(df_question_group)"
   ]
  },
  {
   "cell_type": "code",
   "execution_count": 140,
   "id": "ce054131",
   "metadata": {},
   "outputs": [
    {
     "data": {
      "image/png": "[encoded data removed]",
      "text/plain": [
       "<Figure size 640x480 with 1 Axes>"
      ]
     },
     "metadata": {},
     "output_type": "display_data"
    }
   ],
   "source": [
    "df_question_group.plot(x='Qusestion', y=[\"mapReduced\",\"spark\"], kind='bar')\n",
    "\n",
    "plt.xlabel(\"Questions\")\n",
    "plt.ylabel(\"Average Execution Time (s)\")\n",
    "plt.title(\"Time Taken By\")\n",
    "\n",
    "# Display the chart\n",
    "plt.show()"
   ]
  },
  {
   "cell_type": "code",
   "execution_count": 120,
   "id": "a077602d",
   "metadata": {},
   "outputs": [],
   "source": [
    "#Thank you"
   ]
  },
  {
   "cell_type": "code",
   "execution_count": null,
   "id": "73e78de5",
   "metadata": {},
   "outputs": [],
   "source": []
  }
 ],
 "metadata": {
  "kernelspec": {
   "display_name": "Python 3 (ipykernel)",
   "language": "python",
   "name": "python3"
  },
  "language_info": {
   "codemirror_mode": {
    "name": "ipython",
    "version": 3
   },
   "file_extension": ".py",
   "mimetype": "text/x-python",
   "name": "python",
   "nbconvert_exporter": "python",
   "pygments_lexer": "ipython3",
   "version": "3.9.13"
  }
 },
 "nbformat": 4,
 "nbformat_minor": 5
}
